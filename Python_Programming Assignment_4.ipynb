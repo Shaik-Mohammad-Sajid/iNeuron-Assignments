{
 "cells": [
  {
   "cell_type": "markdown",
   "id": "20cb4340",
   "metadata": {},
   "source": [
    "## Programming Assignment_4\n",
    "----------------"
   ]
  },
  {
   "cell_type": "markdown",
   "id": "4fdb6695",
   "metadata": {},
   "source": [
    "### 1. Write a Python Program to Find the Factorial of a Number?\n",
    "##### Sol."
   ]
  },
  {
   "cell_type": "code",
   "execution_count": 1,
   "id": "0e5e7ce2",
   "metadata": {},
   "outputs": [
    {
     "name": "stdout",
     "output_type": "stream",
     "text": [
      "Enter a number: 5\n",
      "\n",
      "Factorial of 5: 120\n"
     ]
    }
   ],
   "source": [
    "num = int(input(\"Enter a number: \"))\n",
    "\n",
    "fact = 1\n",
    "for i in range(num, 0, -1):\n",
    "    fact = fact*i\n",
    "    \n",
    "print(\"\\nFactorial of {}: {}\".format(num, fact))"
   ]
  },
  {
   "cell_type": "markdown",
   "id": "e6beef62",
   "metadata": {},
   "source": [
    "### 2. Write a Python Program to Display the multiplication Table?\n",
    "##### Sol."
   ]
  },
  {
   "cell_type": "code",
   "execution_count": 1,
   "id": "eba74c90",
   "metadata": {},
   "outputs": [
    {
     "name": "stdout",
     "output_type": "stream",
     "text": [
      "Enter a number: 10\n",
      "10 * 1 = 10\n",
      "10 * 2 = 20\n",
      "10 * 3 = 30\n",
      "10 * 4 = 40\n",
      "10 * 5 = 50\n",
      "10 * 6 = 60\n",
      "10 * 7 = 70\n",
      "10 * 8 = 80\n",
      "10 * 9 = 90\n",
      "10 * 10 = 100\n"
     ]
    }
   ],
   "source": [
    "num = int(input(\"Enter a number: \"))\n",
    "\n",
    "for i in range(1, 11):\n",
    "    print(\"{} * {} = {}\".format(num, i, num*i))"
   ]
  },
  {
   "cell_type": "markdown",
   "id": "7de7eba5",
   "metadata": {},
   "source": [
    "### 3. Write a Python Program to Print the Fibonacci sequence?\n",
    "##### Sol."
   ]
  },
  {
   "cell_type": "code",
   "execution_count": 8,
   "id": "14b8e06e",
   "metadata": {},
   "outputs": [
    {
     "name": "stdout",
     "output_type": "stream",
     "text": [
      "Enter a length: 9\n",
      "0 1 1 2 3 5 8 13 21 "
     ]
    }
   ],
   "source": [
    "fib_len = int(input(\"Length of fibonacci: \"))\n",
    "a = 0\n",
    "b = 1\n",
    "print(a, end = \" \") \n",
    "print(b, end = \" \")\n",
    "while ( fib_len - 2 > 0 ):\n",
    "    sum = a + b\n",
    "    print(sum,end=\" \")\n",
    "    a = b\n",
    "    b = sum\n",
    "\n",
    "    fib_len = fib_len - 1 "
   ]
  },
  {
   "cell_type": "markdown",
   "id": "0446442e",
   "metadata": {},
   "source": [
    "### 4. Write a Python Program to Check Armstrong Number?\n",
    "##### Sol."
   ]
  },
  {
   "cell_type": "code",
   "execution_count": 12,
   "id": "c4cdb3c8",
   "metadata": {},
   "outputs": [
    {
     "name": "stdout",
     "output_type": "stream",
     "text": [
      "Enter a number: 153\n",
      "153 is a armstrong number\n"
     ]
    }
   ],
   "source": [
    "def arm_check(num):\n",
    "    len_num = len(str(num))\n",
    "    sum = 0\n",
    "\n",
    "    for digit in str(num):\n",
    "        sum = sum + int(digit) ** len_num\n",
    "\n",
    "    if sum == num:\n",
    "        return True\n",
    "    else:\n",
    "        return False\n",
    "\n",
    "num = int(input(\"Enter a number: \"))\n",
    "\n",
    "if (arm_check(num)):\n",
    "    print(\"{} is a armstrong number\".format(num))\n",
    "else:\n",
    "    print(\"{} is not a armstong number\".format(num))"
   ]
  },
  {
   "cell_type": "markdown",
   "id": "a6f9adfe",
   "metadata": {},
   "source": [
    "### 5. Write a Python Program to Find Armstrong Number in an Interval?\n",
    "##### Sol.\n"
   ]
  },
  {
   "cell_type": "code",
   "execution_count": 2,
   "id": "0c4aa2f5",
   "metadata": {},
   "outputs": [
    {
     "name": "stdout",
     "output_type": "stream",
     "text": [
      "Enter the lower value of range: 1\n",
      "Enter the higher value of range: 10000\n",
      "\n",
      "From 1 to 10000 following are the Armstrong Number:\n",
      "1 2 3 4 5 6 7 8 9 153 370 371 407 1634 8208 9474 "
     ]
    }
   ],
   "source": [
    "def arm_check(num):\n",
    "    len_num = len(str(num))\n",
    "    sum = 0\n",
    "\n",
    "    for digit in str(num):\n",
    "        sum = sum + int(digit) ** len_num\n",
    "\n",
    "    if sum == num:\n",
    "        return True\n",
    "    else:\n",
    "        return False\n",
    "\n",
    "low = int(input(\"Enter the lower value of range: \"))\n",
    "high = int(input(\"Enter the higher value of range: \"))\n",
    "\n",
    "print(\"\\nFrom {} to {} following are the Armstrong Number:\".format(low, high), end='\\n')\n",
    "for i in range(low, high+1):\n",
    "    \n",
    "    if(arm_check(i)):\n",
    "        print(i, end = ' ')"
   ]
  },
  {
   "cell_type": "markdown",
   "id": "157cad60",
   "metadata": {},
   "source": [
    "### 6. Write a Python Program to Find the Sum of Natural Numbers?\n",
    "##### Sol."
   ]
  },
  {
   "cell_type": "code",
   "execution_count": 3,
   "id": "aa7cf139",
   "metadata": {},
   "outputs": [
    {
     "name": "stdout",
     "output_type": "stream",
     "text": [
      "Enter a positive number: 100\n",
      "Sum of 100 natural number is 5050\n"
     ]
    }
   ],
   "source": [
    "num = int(input(\"Enter a positive number: \"))\n",
    "\n",
    "total_sum = 0\n",
    "for i in range(1, num+1):\n",
    "    total_sum += i\n",
    "    \n",
    "print(\"Sum of {} natural number is {}\".format(num, total_sum))"
   ]
  },
  {
   "cell_type": "code",
   "execution_count": null,
   "id": "333c15da",
   "metadata": {},
   "outputs": [],
   "source": []
  }
 ],
 "metadata": {
  "kernelspec": {
   "display_name": "Python 3 (ipykernel)",
   "language": "python",
   "name": "python3"
  },
  "language_info": {
   "codemirror_mode": {
    "name": "ipython",
    "version": 3
   },
   "file_extension": ".py",
   "mimetype": "text/x-python",
   "name": "python",
   "nbconvert_exporter": "python",
   "pygments_lexer": "ipython3",
   "version": "3.9.12"
  },
  "vscode": {
   "interpreter": {
    "hash": "351c8c9034f868e1956a199a2c85f12c264640cedfd8a25388e36a93f17a62cf"
   }
  }
 },
 "nbformat": 4,
 "nbformat_minor": 5
}
