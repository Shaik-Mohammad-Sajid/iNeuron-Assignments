{
 "cells": [
  {
   "cell_type": "markdown",
   "id": "08c66ea5",
   "metadata": {},
   "source": [
    "## Programming Assignment_2\n",
    "-------------"
   ]
  },
  {
   "attachments": {},
   "cell_type": "markdown",
   "id": "4e50cf42",
   "metadata": {},
   "source": [
    "### 1. Write a Python program to convert kilometers to miles?\n",
    "##### Sol.\n",
    "            km = 15\n",
    "            miles = km / 1.60934\n",
    "            print(\"{} kms of distance in miles is = {}\".format(kms, miles))"
   ]
  },
  {
   "cell_type": "code",
   "execution_count": 4,
   "id": "8d5eb295",
   "metadata": {},
   "outputs": [
    {
     "name": "stdout",
     "output_type": "stream",
     "text": [
      "15 kms of distance in miles is = 9.320591049747101 \n"
     ]
    }
   ],
   "source": [
    "kms = 15\n",
    "miles = km / 1.60934\n",
    "print(\"{} kms of distance in miles is = {} \".format(kms,miles))"
   ]
  },
  {
   "attachments": {},
   "cell_type": "markdown",
   "id": "0df4e6bf",
   "metadata": {},
   "source": [
    "### 2.Write a Python program to convert Celsius to Fahrenheit?\n",
    "##### Sol.\n",
    "            c = 24\n",
    "            f = (9*c/5)+32\n",
    "            print(\"{} Celsius is equal to {} Fahrenheit\".format(c, f))"
   ]
  },
  {
   "cell_type": "code",
   "execution_count": 5,
   "id": "b26052b8",
   "metadata": {},
   "outputs": [
    {
     "name": "stdout",
     "output_type": "stream",
     "text": [
      "24 Celsius is equal to 75.2 Fahrenheit\n"
     ]
    }
   ],
   "source": [
    "c = 24\n",
    "f = (9*c/5)+32\n",
    "print(\"{} Celsius is equal to {} Fahrenheit\".format(c, f))"
   ]
  },
  {
   "attachments": {},
   "cell_type": "markdown",
   "id": "46129b8e",
   "metadata": {},
   "source": [
    "### 3. Write a Python program to display calendar?\n",
    "##### Sol.\n",
    "            import calendar\n",
    "\n",
    "            year = 2023\n",
    "            month = 1\n",
    "            \n",
    "            print(calendar.month(year,month))\n",
    "\n",
    "            print(calendar.calendar(month))"
   ]
  },
  {
   "cell_type": "code",
   "execution_count": 15,
   "id": "195356fe",
   "metadata": {},
   "outputs": [
    {
     "name": "stdout",
     "output_type": "stream",
     "text": [
      "    January 2023\n",
      "Mo Tu We Th Fr Sa Su\n",
      "                   1\n",
      " 2  3  4  5  6  7  8\n",
      " 9 10 11 12 13 14 15\n",
      "16 17 18 19 20 21 22\n",
      "23 24 25 26 27 28 29\n",
      "30 31\n",
      "\n",
      "                                  2023\n",
      "\n",
      "      January                   February                   March\n",
      "Mo Tu We Th Fr Sa Su      Mo Tu We Th Fr Sa Su      Mo Tu We Th Fr Sa Su\n",
      "                   1             1  2  3  4  5             1  2  3  4  5\n",
      " 2  3  4  5  6  7  8       6  7  8  9 10 11 12       6  7  8  9 10 11 12\n",
      " 9 10 11 12 13 14 15      13 14 15 16 17 18 19      13 14 15 16 17 18 19\n",
      "16 17 18 19 20 21 22      20 21 22 23 24 25 26      20 21 22 23 24 25 26\n",
      "23 24 25 26 27 28 29      27 28                     27 28 29 30 31\n",
      "30 31\n",
      "\n",
      "       April                      May                       June\n",
      "Mo Tu We Th Fr Sa Su      Mo Tu We Th Fr Sa Su      Mo Tu We Th Fr Sa Su\n",
      "                1  2       1  2  3  4  5  6  7                1  2  3  4\n",
      " 3  4  5  6  7  8  9       8  9 10 11 12 13 14       5  6  7  8  9 10 11\n",
      "10 11 12 13 14 15 16      15 16 17 18 19 20 21      12 13 14 15 16 17 18\n",
      "17 18 19 20 21 22 23      22 23 24 25 26 27 28      19 20 21 22 23 24 25\n",
      "24 25 26 27 28 29 30      29 30 31                  26 27 28 29 30\n",
      "\n",
      "        July                     August                  September\n",
      "Mo Tu We Th Fr Sa Su      Mo Tu We Th Fr Sa Su      Mo Tu We Th Fr Sa Su\n",
      "                1  2          1  2  3  4  5  6                   1  2  3\n",
      " 3  4  5  6  7  8  9       7  8  9 10 11 12 13       4  5  6  7  8  9 10\n",
      "10 11 12 13 14 15 16      14 15 16 17 18 19 20      11 12 13 14 15 16 17\n",
      "17 18 19 20 21 22 23      21 22 23 24 25 26 27      18 19 20 21 22 23 24\n",
      "24 25 26 27 28 29 30      28 29 30 31               25 26 27 28 29 30\n",
      "31\n",
      "\n",
      "      October                   November                  December\n",
      "Mo Tu We Th Fr Sa Su      Mo Tu We Th Fr Sa Su      Mo Tu We Th Fr Sa Su\n",
      "                   1             1  2  3  4  5                   1  2  3\n",
      " 2  3  4  5  6  7  8       6  7  8  9 10 11 12       4  5  6  7  8  9 10\n",
      " 9 10 11 12 13 14 15      13 14 15 16 17 18 19      11 12 13 14 15 16 17\n",
      "16 17 18 19 20 21 22      20 21 22 23 24 25 26      18 19 20 21 22 23 24\n",
      "23 24 25 26 27 28 29      27 28 29 30               25 26 27 28 29 30 31\n",
      "30 31\n",
      "\n"
     ]
    }
   ],
   "source": [
    "import calendar\n",
    "\n",
    "year = 2023\n",
    "month = 1\n",
    "\n",
    "print(calendar.month(year,month))\n",
    "\n",
    "print(calendar.calendar(year))"
   ]
  },
  {
   "attachments": {},
   "cell_type": "markdown",
   "id": "db2bf0f7",
   "metadata": {},
   "source": [
    "### 4. Write a Python program to solve quadratic equation?\n",
    "##### Sol.\n",
    "\n",
    "            import math\n",
    "\n",
    "            print(\"Quadratic Equation : ax^2 + bx + c = 0\")\n",
    "            print(\"Enter the co-efficent values of a,b and constant value c\")\n",
    "\n",
    "            a = int(input(\"Enter the co-efficient value of a :\"))\n",
    "            b = int(input(\"Enter the co-efficient value of b :\"))\n",
    "            c = int(input(\"Enter the constant value of c :\"))\n",
    "\n",
    "            value_1 = ( (-1*b) + (math.sqrt( (b**2) -(4*a*c) )) ) / (2*a)\n",
    "            value_2 = ( (-1*b) - (math.sqrt( (b**2) -(4*a*c) )) ) / (2*a)\n",
    "\n",
    "            print(\"\\nThe Quadratic Equation is {}x^2 + {}x + {} = 0\".format(a,b,c))\n",
    "            print(\"The Values of x are {} and {}\".format(value_1,value_2))"
   ]
  },
  {
   "cell_type": "code",
   "execution_count": 21,
   "id": "66aa2e8b",
   "metadata": {},
   "outputs": [
    {
     "name": "stdout",
     "output_type": "stream",
     "text": [
      "Quadratic Equation : ax^2 + bx + c = 0\n",
      "Enter the co-efficent values of a,b and constant value c\n",
      "\n",
      "The Quadratic Equation is 1x^2 + 5x + 6 = 0\n",
      "The Values of x are -2.0 and -3.0\n"
     ]
    }
   ],
   "source": [
    "import math\n",
    "\n",
    "print(\"Quadratic Equation : ax^2 + bx + c = 0\")\n",
    "print(\"Enter the co-efficent values of a,b and constant value c\")\n",
    "\n",
    "a = int(input(\"Enter the co-efficient value of a :\"))\n",
    "b = int(input(\"Enter the co-efficient value of b :\"))\n",
    "c = int(input(\"Enter the constant value of c :\"))\n",
    "\n",
    "value_1 = ( (-1*b) + (math.sqrt( (b**2) -(4*a*c) )) ) / (2*a)\n",
    "value_2 = ( (-1*b) - (math.sqrt( (b**2) -(4*a*c) )) ) / (2*a)\n",
    "\n",
    "print(\"\\nThe Quadratic Equation is {}x^2 + {}x + {} = 0\".format(a,b,c))\n",
    "print(\"The Values of x are {} and {}\".format(value_1,value_2))"
   ]
  },
  {
   "attachments": {},
   "cell_type": "markdown",
   "id": "f70f74c9",
   "metadata": {},
   "source": [
    "### 5. Write a Python program to swap two variables without temp variable?\n",
    "##### Sol.\n",
    "            var1 = 66\n",
    "            var2 = 99\n",
    "            print('Before swap:\\nvar1 = {} and var2 = {}'.format(var1, var2))\n",
    "\n",
    "            var2 = var1 + var2\n",
    "            var1 = var2 - var1\n",
    "            var2 = var2 - var1\n",
    "            print('\\nAfter swap:\\nvar1 = {} and var2 = {}'.format(var1, var2))"
   ]
  },
  {
   "cell_type": "code",
   "execution_count": 24,
   "id": "58514b20",
   "metadata": {},
   "outputs": [
    {
     "name": "stdout",
     "output_type": "stream",
     "text": [
      "Before swap:\n",
      "var1 = 66 and var2 = 99\n",
      "\n",
      "After swap:\n",
      "var1 = 99 and var2 = 66\n"
     ]
    }
   ],
   "source": [
    "var1 = 66\n",
    "var2 = 99\n",
    "print('Before swap:\\nvar1 = {} and var2 = {}'.format(var1, var2))\n",
    "\n",
    "var2 = var1 + var2\n",
    "var1 = var2 - var1\n",
    "var2 = var2 - var1\n",
    "print('\\nAfter swap:\\nvar1 = {} and var2 = {}'.format(var1, var2))"
   ]
  },
  {
   "cell_type": "code",
   "execution_count": null,
   "id": "3fbe6786",
   "metadata": {},
   "outputs": [],
   "source": []
  }
 ],
 "metadata": {
  "kernelspec": {
   "display_name": "base",
   "language": "python",
   "name": "python3"
  },
  "language_info": {
   "codemirror_mode": {
    "name": "ipython",
    "version": 3
   },
   "file_extension": ".py",
   "mimetype": "text/x-python",
   "name": "python",
   "nbconvert_exporter": "python",
   "pygments_lexer": "ipython3",
   "version": "3.9.12 (main, Apr  4 2022, 05:22:27) [MSC v.1916 64 bit (AMD64)]"
  },
  "vscode": {
   "interpreter": {
    "hash": "351c8c9034f868e1956a199a2c85f12c264640cedfd8a25388e36a93f17a62cf"
   }
  }
 },
 "nbformat": 4,
 "nbformat_minor": 5
}
