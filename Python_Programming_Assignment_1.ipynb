{
 "cells": [
  {
   "cell_type": "markdown",
   "id": "637b47a5",
   "metadata": {},
   "source": [
    "## Programming Assignment_1\n",
    "-------------"
   ]
  },
  {
   "cell_type": "markdown",
   "id": "0c647dbe",
   "metadata": {},
   "source": [
    "### 1. Write a Python program to print \"Hello Python\"?\n",
    "##### Sol: "
   ]
  },
  {
   "cell_type": "code",
   "execution_count": 1,
   "id": "732cbadd",
   "metadata": {},
   "outputs": [
    {
     "name": "stdout",
     "output_type": "stream",
     "text": [
      "Hello Python\n"
     ]
    }
   ],
   "source": [
    "print(\"Hello Python\")"
   ]
  },
  {
   "cell_type": "markdown",
   "id": "fc18a6cd",
   "metadata": {},
   "source": [
    "### 2. Write a Python program to do arithmetical operations addition and division.?\n",
    "##### Sol: "
   ]
  },
  {
   "cell_type": "code",
   "execution_count": 2,
   "id": "d5e81491",
   "metadata": {},
   "outputs": [
    {
     "name": "stdout",
     "output_type": "stream",
     "text": [
      "110\n",
      "10.0\n"
     ]
    }
   ],
   "source": [
    "a = 100\n",
    "b = 10\n",
    "# Addition\n",
    "add = a + b\n",
    "# Division\n",
    "div = a/b\n",
    "print(add)\n",
    "print(div) "
   ]
  },
  {
   "cell_type": "markdown",
   "id": "af6e2429",
   "metadata": {},
   "source": [
    "### 3. Write a Python program to find the area of a triangle?\n",
    "##### Sol:"
   ]
  },
  {
   "cell_type": "code",
   "execution_count": 3,
   "id": "d5d93846",
   "metadata": {},
   "outputs": [
    {
     "name": "stdout",
     "output_type": "stream",
     "text": [
      "Area of Triangle:  250.0\n"
     ]
    }
   ],
   "source": [
    "# Area of triangle = 1/2 * b * h\n",
    "\n",
    "Height = 50   # --> Height of the triangle\n",
    "Base = 10     # --> Base of the triangle\n",
    "Area_of_triangle = 1/2 * Base * Height\n",
    "print(\"Area of Triangle: \",Area_of_triangle)"
   ]
  },
  {
   "cell_type": "markdown",
   "id": "b8140061",
   "metadata": {},
   "source": [
    "### 4. Write a Python program to swap two variables?\n",
    "##### Sol:"
   ]
  },
  {
   "cell_type": "code",
   "execution_count": 7,
   "id": "182608ba",
   "metadata": {},
   "outputs": [
    {
     "name": "stdout",
     "output_type": "stream",
     "text": [
      "Before Swap:\n",
      " a = Variable_1 and b = Variable_2\n",
      "After Swap:\n",
      " a = Variable_2 and b = Variable_1\n"
     ]
    }
   ],
   "source": [
    "# Swapping of two variables\n",
    "\n",
    "a = \"Variable_1\"\n",
    "b = \"Variable_2\"\n",
    "\n",
    "print(\"Before Swap:\\n a = {} and b = {}\".format(a,b))\n",
    "\n",
    "swap = a\n",
    "a = b\n",
    "b = swap\n",
    "\n",
    "print(\"After Swap:\\n a = {} and b = {}\".format(a,b))\n",
    "\n"
   ]
  },
  {
   "cell_type": "markdown",
   "id": "3f8054c1",
   "metadata": {},
   "source": [
    "### 5. Write a Python program to generate a random number?\n",
    "##### Sol:"
   ]
  },
  {
   "cell_type": "code",
   "execution_count": 8,
   "id": "f1e76df9",
   "metadata": {},
   "outputs": [
    {
     "name": "stdout",
     "output_type": "stream",
     "text": [
      "0.863839580772343\n",
      "9\n"
     ]
    }
   ],
   "source": [
    "import random\n",
    "\n",
    "print(random.random())\n",
    "print(random.randint(1,100))"
   ]
  }
 ],
 "metadata": {
  "kernelspec": {
   "display_name": "Python 3 (ipykernel)",
   "language": "python",
   "name": "python3"
  },
  "language_info": {
   "codemirror_mode": {
    "name": "ipython",
    "version": 3
   },
   "file_extension": ".py",
   "mimetype": "text/x-python",
   "name": "python",
   "nbconvert_exporter": "python",
   "pygments_lexer": "ipython3",
   "version": "3.9.12"
  },
  "vscode": {
   "interpreter": {
    "hash": "351c8c9034f868e1956a199a2c85f12c264640cedfd8a25388e36a93f17a62cf"
   }
  }
 },
 "nbformat": 4,
 "nbformat_minor": 5
}
