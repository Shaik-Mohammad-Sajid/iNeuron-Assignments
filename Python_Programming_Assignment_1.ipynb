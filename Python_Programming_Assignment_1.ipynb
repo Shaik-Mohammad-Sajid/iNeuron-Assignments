{
 "cells": [
  {
   "cell_type": "markdown",
   "id": "637b47a5",
   "metadata": {},
   "source": [
    "## Programming Assignment_1\n",
    "-------------"
   ]
  },
  {
   "attachments": {},
   "cell_type": "markdown",
   "id": "0c647dbe",
   "metadata": {},
   "source": [
    "### 1. Write a Python program to print \"Hello Python\"?\n",
    "##### Sol: \n",
    "            print(\"Hello python\")"
   ]
  },
  {
   "cell_type": "code",
   "execution_count": 1,
   "id": "732cbadd",
   "metadata": {},
   "outputs": [
    {
     "name": "stdout",
     "output_type": "stream",
     "text": [
      "Hello Python\n"
     ]
    }
   ],
   "source": [
    "print(\"Hello Python\")"
   ]
  },
  {
   "attachments": {},
   "cell_type": "markdown",
   "id": "fc18a6cd",
   "metadata": {},
   "source": [
    "### 2. Write a Python program to do arithmetical operations addition and division.?\n",
    "##### Sol: \n",
    "            a = 100\n",
    "            b = 10\n",
    "            # Addition\n",
    "            add = a + b\n",
    "            # Division\n",
    "            div = a/b\n",
    "            print(add)\n",
    "            print(div) "
   ]
  },
  {
   "cell_type": "code",
   "execution_count": 2,
   "id": "d5e81491",
   "metadata": {},
   "outputs": [
    {
     "name": "stdout",
     "output_type": "stream",
     "text": [
      "110\n",
      "10.0\n"
     ]
    }
   ],
   "source": [
    "a = 100\n",
    "b = 10\n",
    "# Addition\n",
    "add = a + b\n",
    "# Division\n",
    "div = a/b\n",
    "print(add)\n",
    "print(div) "
   ]
  },
  {
   "attachments": {},
   "cell_type": "markdown",
   "id": "af6e2429",
   "metadata": {},
   "source": [
    "### 3. Write a Python program to find the area of a triangle?\n",
    "##### Sol:\n",
    "            # Area of triangle = 1/2 * b * h\n",
    "\n",
    "            Height = 50   # --> Height of the triangle\n",
    "            Base = 10     # --> Base of the triangle\n",
    "            \n",
    "            Area_of_triangle = 1/2 * Base * Height\n",
    "\n",
    "            print(\"Area of Triangle: \",Area_of_triangle)"
   ]
  },
  {
   "cell_type": "code",
   "execution_count": 3,
   "id": "d5d93846",
   "metadata": {},
   "outputs": [
    {
     "name": "stdout",
     "output_type": "stream",
     "text": [
      "Area of Triangle:  250.0\n"
     ]
    }
   ],
   "source": [
    "# Area of triangle = 1/2 * b * h\n",
    "\n",
    "Height = 50   # --> Height of the triangle\n",
    "Base = 10     # --> Base of the triangle\n",
    "Area_of_triangle = 1/2 * Base * Height\n",
    "print(\"Area of Triangle: \",Area_of_triangle)"
   ]
  },
  {
   "attachments": {},
   "cell_type": "markdown",
   "id": "b8140061",
   "metadata": {},
   "source": [
    "### 4. Write a Python program to swap two variables?\n",
    "##### Sol:\n",
    "            # Swapping of two variables\n",
    "\n",
    "            a = \"Variable 1\"\n",
    "            b = \"Variable 2\"\n",
    "            print(\"Before Swap:\\n a = {} and b = {}\".format(a,b))\n",
    "\n",
    "            swap = a\n",
    "            a = b\n",
    "            b = swap\n",
    "            print(\"After Swap:\\n a = {} and b = {}\".format(a,b))"
   ]
  },
  {
   "cell_type": "code",
   "execution_count": 4,
   "id": "182608ba",
   "metadata": {},
   "outputs": [
    {
     "name": "stdout",
     "output_type": "stream",
     "text": [
      "Before Swap:\n",
      " a = Variable 1 and b = Variable 2\n",
      "After Swap:\n",
      " a = Variable 2 and b = Variable 1\n"
     ]
    }
   ],
   "source": [
    "# Swapping of two variables\n",
    "\n",
    "a = \"Variable 1\"\n",
    "b = \"Variable 2\"\n",
    "\n",
    "print(\"Before Swap:\\n a = {} and b = {}\".format(a,b))\n",
    "\n",
    "swap = a\n",
    "a = b\n",
    "b = swap\n",
    "\n",
    "print(\"After Swap:\\n a = {} and b = {}\".format(a,b))\n",
    "\n"
   ]
  },
  {
   "attachments": {},
   "cell_type": "markdown",
   "id": "3f8054c1",
   "metadata": {},
   "source": [
    "### 5. Write a Python program to generate a random number?\n",
    "##### Sol:\n",
    "\n",
    "            import random\n",
    "\n",
    "            print(random.random())\n",
    "            print(random.randint(1, 100))"
   ]
  },
  {
   "cell_type": "code",
   "execution_count": 8,
   "id": "f1e76df9",
   "metadata": {},
   "outputs": [
    {
     "name": "stdout",
     "output_type": "stream",
     "text": [
      "0.8696906095774898\n",
      "58\n"
     ]
    }
   ],
   "source": [
    "import random\n",
    "\n",
    "print(random.random())\n",
    "print(random.randint(1,100))"
   ]
  },
  {
   "cell_type": "code",
   "execution_count": null,
   "id": "3ab18c00",
   "metadata": {},
   "outputs": [],
   "source": []
  }
 ],
 "metadata": {
  "kernelspec": {
   "display_name": "base",
   "language": "python",
   "name": "python3"
  },
  "language_info": {
   "codemirror_mode": {
    "name": "ipython",
    "version": 3
   },
   "file_extension": ".py",
   "mimetype": "text/x-python",
   "name": "python",
   "nbconvert_exporter": "python",
   "pygments_lexer": "ipython3",
   "version": "3.9.12 (main, Apr  4 2022, 05:22:27) [MSC v.1916 64 bit (AMD64)]"
  },
  "vscode": {
   "interpreter": {
    "hash": "351c8c9034f868e1956a199a2c85f12c264640cedfd8a25388e36a93f17a62cf"
   }
  }
 },
 "nbformat": 4,
 "nbformat_minor": 5
}
