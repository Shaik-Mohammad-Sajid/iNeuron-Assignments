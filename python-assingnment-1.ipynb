{
 "cells": [
  {
   "cell_type": "markdown",
   "id": "d9fd5257",
   "metadata": {},
   "source": [
    "# Assignment Part-1"
   ]
  },
  {
   "cell_type": "markdown",
   "id": "3c99bcca",
   "metadata": {},
   "source": [
    "##### Q1. Why do we call Python as a general purpose and high-level programming language?\n",
    "Ans.\n"
   ]
  },
  {
   "cell_type": "markdown",
   "id": "538f6152",
   "metadata": {},
   "source": [
    "       Python is considered a general purpose programming language because it can be used to build almost any type of software, including web applications, desktop applications, scientific and numeric applications, games, and more.The language has a wide range of libraries and frameworks that make it easy for developers to build any application they need.\n",
    "        Python is considered a high-level programming language because it abstracts away many of the low-level details of computer memory and hardware that are required when programming in languages such as C or Assembly. This allows developers to write code that is easier to read, understand, and maintain. Additionally, the syntax of Python is designed to be intuitive and easy to learn, making it a great choice for beginners."
   ]
  },
  {
   "cell_type": "markdown",
   "id": "00d4424e",
   "metadata": {},
   "source": [
    "##### Q2. Why is Python called a dynamically typed language?\n",
    "Ans."
   ]
  },
  {
   "cell_type": "markdown",
   "id": "8cafb61c",
   "metadata": {},
   "source": [
    "        Python is called a dynamically typed language because the type of a variable is determined at runtime, rather than at compile-time. In other words, you don't need to specify the type of a variable when you declare it, and the type of a variable can change at any time during the execution of the program.\n",
    "        In contrast, languages that are statically typed, such as C or Java, require you to explicitly specify the type of a variable when you declare it, and the type of a variable cannot change after it is declared.\n",
    "        This feature allows for flexibility and ease of use in python. For example, you don't have to worry about type mismatches or type conversions, and you can easily write code that works with data of different types. It also makes it easier to write generic code that can be used with multiple types of data.\n",
    "        However, it also mean that it is a bit harder to catch some errors or bugs, as the type of a variable may change without the developer noticing."
   ]
  },
  {
   "cell_type": "markdown",
   "id": "aeed5f6a",
   "metadata": {},
   "source": [
    "##### Q3. List some pros and cons of Python programming language?\n",
    "Ans."
   ]
  },
  {
   "cell_type": "markdown",
   "id": "70a4bdc4",
   "metadata": {},
   "source": [
    "    Pros of Python:\n",
    "        1.Easy to read and understand: Python's syntax is simple, clean, and easy to read, making it a great choice for beginners.\n",
    "        2.Versatile: Python can be used for a wide range of tasks, including web development, scientific computing, data analysis, artificial intelligence, and more.\n",
    "        3.Large and active community: Python has a large and active community of developers who contribute to the language and its ecosystem, which means that there are many    libraries and frameworks available to help you get things done.\n",
    "        4.Dynamically typed: Python is a dynamically typed language, which makes it easy to write generic code and to work with data of different types.\n",
    "        5.Cross-platform: Python code can be run on a variety of different platforms, including Windows, Mac, and Linux.\n",
    "\n",
    "    Cons of Python:\n",
    "        1.Performance: Python is an interpreted language, which can make it slower than compiled languages like C or Java.\n",
    "        2.Memory usage: Python uses more memory than compiled languages, which can make it less efficient for memory-intensive tasks.\n",
    "        3.Dynamically typed: Python's dynamic typing can make it harder to catch some errors or bugs, as the type of a variable may change without the developer noticing.\n",
    "        4.Limited mobile and browser support: Python is not ideal for mobile and browser-based apps, it's used mainly for server-side scripting.\n",
    "        5.Fewer job opportunities: Depending on location and industry, there may be fewer job opportunities available for Python developers than for developers with experience in other languages."
   ]
  },
  {
   "cell_type": "markdown",
   "id": "11f77049",
   "metadata": {},
   "source": [
    "##### Q4. In what all domains can we use Python?\n",
    "Ans."
   ]
  },
  {
   "cell_type": "markdown",
   "id": "28118b77",
   "metadata": {},
   "source": [
    "        Python is a versatile programming language that can be used in a wide range of domains, including Web development, Scientific and numeric computing, Data analysis and visualization, Artificial intelligence and machine learning, Game development, Desktop Applications, Networking, Education and research, Automation, Internet of Things (IoT)\n",
    "\n",
    "\n",
    "\n"
   ]
  },
  {
   "cell_type": "markdown",
   "id": "443d66f8",
   "metadata": {},
   "source": [
    "##### Q5. What are variable and how can we declare them?\n",
    "Ans."
   ]
  },
  {
   "cell_type": "markdown",
   "id": "e09e93b4",
   "metadata": {},
   "source": [
    "        In programming, a variable is a named storage location that holds a value. The value stored in a variable can change during the execution of a program. Variables are used to store data, such as numbers, strings, and other data types.\n",
    "        In Python, a variable is declared by assigning a value to it using the assignment operator (=).\n",
    "        For example:\n",
    "            x = 5 "
   ]
  },
  {
   "cell_type": "markdown",
   "id": "5de72ae4",
   "metadata": {},
   "source": [
    "##### Q6. How can we take an input from the user in Python?\n",
    "Ans.\n"
   ]
  },
  {
   "cell_type": "markdown",
   "id": "b92b6a50",
   "metadata": {},
   "source": [
    "        In Python, you can take input from the user using the built-in input() function. The input() function reads a line of text from the user, and returns it as a string.\n",
    "        For example,the following code will prompt the user to enter their name and then assigns the value entered by the user to a variable called \"name\":\n",
    "        name = input(\"What is your name? \")"
   ]
  },
  {
   "cell_type": "markdown",
   "id": "0b3253fb",
   "metadata": {},
   "source": [
    "##### Q7. What is the default datatype of the value that has been taken as an input using input() function?\n",
    "Ans."
   ]
  },
  {
   "cell_type": "markdown",
   "id": "6fe71056",
   "metadata": {},
   "source": [
    "        The default data type of the value that is taken as input using the input() function in Python is a string.\n",
    "        for example:\n",
    "        age = int(input(\"What is your age? \"))\n"
   ]
  },
  {
   "cell_type": "markdown",
   "id": "b7fee998",
   "metadata": {},
   "source": [
    "##### Q8. What is type casting?\n",
    "Ans."
   ]
  },
  {
   "cell_type": "markdown",
   "id": "fc87178d",
   "metadata": {},
   "source": [
    "        Type casting, also known as type conversion, is the process of converting a value from one data type to another data type.\n",
    "        In Python, type casting is done using type casting functions like int(), float(), str(), bool(), etc.\n",
    "        For example, you can use the int() function to convert a value from a string data type to an integer data type:\n",
    "        x = \"5\"\n",
    "        y = int(x) \n",
    "    "
   ]
  },
  {
   "cell_type": "markdown",
   "id": "967573f5",
   "metadata": {},
   "source": [
    "##### Q9. Can we take more than one input from the user using single input() function? If yes, how? If no, why?\n",
    "Ans."
   ]
  },
  {
   "cell_type": "markdown",
   "id": "37b03f6f",
   "metadata": {},
   "source": [
    "        No, you cannot take more than one input from the user using a single input() function. The input() function reads a single line of text from the user, and returns it as a string. If you want to take multiple inputs from the user, you need to use multiple input() function calls.\n",
    "        For example, to take input for two variables, you can use the following code:\n",
    "        name = input(\"Enter your name: \")\n",
    "        age = input(\"Enter your age: \")"
   ]
  },
  {
   "cell_type": "markdown",
   "id": "3dfc10dc",
   "metadata": {},
   "source": [
    "##### Q10. What are keywords?\n",
    "Ans."
   ]
  },
  {
   "cell_type": "markdown",
   "id": "732b5103",
   "metadata": {},
   "source": [
    "        In Python, keywords are reserved words that have a special meaning in the language and cannot be used as variable names or identifiers. They are used to define the structure and syntax of the Python language.\n",
    "        There are several keywords in Python, such as if, else, for, while, def, class, and, or, not, in, etc. Each keyword has a specific purpose and meaning in the language."
   ]
  },
  {
   "cell_type": "markdown",
   "id": "2296fd2a",
   "metadata": {},
   "source": [
    "##### Q11. Can we use keywords as a variable? Support your answer with reason.\n",
    "Ans."
   ]
  },
  {
   "cell_type": "markdown",
   "id": "9f1d3f07",
   "metadata": {},
   "source": [
    "        Keywords are reserved words in Python that have a special meaning in the language and cannot be used as variable names or identifiers. They are used to define the structure and syntax of the Python language.\n",
    "        Using a keyword as a variable name would cause confusion and lead to errors in your code, because the interpreter would not know whether you are trying to use the keyword in its intended special way, or whether you are trying to use it as a variable name.\n",
    "        For example, if you try to use the keyword for as a variable name, the interpreter will not know whether you are trying to create a for loop or trying to assign a value to a variable called for. This will lead to a syntax error."
   ]
  },
  {
   "cell_type": "markdown",
   "id": "0eb0f502",
   "metadata": {},
   "source": [
    "##### Q12. What is indentation? What's the use of indentaion in Python?\n",
    "Ans."
   ]
  },
  {
   "cell_type": "markdown",
   "id": "f79a5f2e",
   "metadata": {},
   "source": [
    "        In Python, indentation refers to the use of whitespace at the beginning of a line of code to indicate a block of code. Python uses indentation to indicate the level of nesting of blocks of code, such as the body of a loop, a function, or a class.\n",
    "        The use of indentation in Python is to indicate the level of nesting of blocks of code, and it is also used to indicate the scope of the variable. Variables declared inside a block of code have a local scope, and they are only accessible within that block of code. Variables declared outside of a block of code have a global scope, and they are accessible throughout the entire program."
   ]
  },
  {
   "cell_type": "markdown",
   "id": "96314b85",
   "metadata": {},
   "source": [
    "##### Q13. How can we throw some output in Python?\n",
    "Ans."
   ]
  },
  {
   "cell_type": "markdown",
   "id": "2a2a9b8e",
   "metadata": {},
   "source": [
    "        In Python, you can use the built-in print() function to throw some output. The print() function takes one or more arguments, and it prints them to the console.\n",
    "        For example, the following code will print the string \"Hello, World!\" to the console:\n",
    "        print(\"Hello, World!\")"
   ]
  },
  {
   "cell_type": "markdown",
   "id": "1d4d8ebf",
   "metadata": {},
   "source": [
    "##### Q14. What are operators in Python?\n",
    "Ans."
   ]
  },
  {
   "cell_type": "markdown",
   "id": "3b1ef5e7",
   "metadata": {},
   "source": [
    "        In Python, operators are special symbols that perform specific operations on one or more operands (values or variables). The value that the operator operates on is called the operand.\n",
    "        For example, in the statement x + y, the + is the operator that performs the addition.\n",
    "        There are several types of operators in Python, including Arithmetic operators, Comparison operators, Assignment operators, Logical operators,Identity operators, Membership operators, Bitwise operators."
   ]
  },
  {
   "cell_type": "markdown",
   "id": "2ab6be00",
   "metadata": {},
   "source": [
    "##### Q15. What is difference between / and // operators?\n",
    "Ans."
   ]
  },
  {
   "cell_type": "markdown",
   "id": "323674b4",
   "metadata": {},
   "source": [
    "        In Python, the / operator and the // operator are both used for division, but they behave differently when it comes to the type of the result.\n",
    "        The / operator is the standard division operator, it returns a floating-point result when used with two integers.\n",
    "        For example:\n",
    "                x = 5\n",
    "                y = 2\n",
    "                print(x / y)  # Output: 2.5\n",
    "        The // operator is the floor division operator, it returns the largest integer that is less than or equal to the exact quotient. It rounds the result down to the nearest whole number.\n",
    "        For example:\n",
    "                x = 5\n",
    "                y = 2\n",
    "                print(x // y)  # Output: 2"
   ]
  },
  {
   "cell_type": "markdown",
   "id": "cb16f880",
   "metadata": {},
   "source": [
    "##### Q16. Write a code that gives following as an output.\n",
    "```\n",
    "iNeuroniNeuroniNeuroniNeuron\n",
    "```\n",
    "Ans."
   ]
  },
  {
   "cell_type": "code",
   "execution_count": 6,
   "id": "9013b101",
   "metadata": {},
   "outputs": [
    {
     "name": "stdout",
     "output_type": "stream",
     "text": [
      "iNeuroniNeuroniNeuroniNeuron\n"
     ]
    }
   ],
   "source": [
    "print(\"iNeuron\" * 4)"
   ]
  },
  {
   "cell_type": "markdown",
   "id": "ad2d1b2a",
   "metadata": {},
   "source": [
    "##### Q17. Write a code to take a number as an input from the user and check if the number is odd or even.\n",
    "Ans."
   ]
  },
  {
   "cell_type": "code",
   "execution_count": 5,
   "id": "7b83a810",
   "metadata": {},
   "outputs": [
    {
     "name": "stdout",
     "output_type": "stream",
     "text": [
      "The given number 6 is an EVEN\n"
     ]
    }
   ],
   "source": [
    "num = int(input(\"Enter a number: \"))\n",
    "if num % 2 == 0:\n",
    "    print(\"The given number {} is an EVEN\".format(num))\n",
    "else:\n",
    "    print(\"The given number {} is an ODD\".format(num))"
   ]
  },
  {
   "cell_type": "markdown",
   "id": "b08fbe1a",
   "metadata": {},
   "source": [
    "##### Q18. What are boolean operator?\n",
    "Ans."
   ]
  },
  {
   "cell_type": "markdown",
   "id": "098da53b",
   "metadata": {},
   "source": [
    "        In Python, Boolean operators are operators that perform logical operations on Boolean (True or False) values. They are used to combine and manipulate Boolean expressions.\n",
    "        There are three Boolean operators in Python:\n",
    "            and: returns True if both the operands are True, and False otherwise.\n",
    "            or: returns True if at least one of the operands is True, and False otherwise.\n",
    "            not: returns True if the operand is False, and False if the operand is True.\n",
    "        For example:\n",
    "                x = 5\n",
    "                y = 2\n",
    "                print(x > 0 and y > 0)  # Output: True\n",
    "                print(x > 0 or y > 0)  # Output: True\n",
    "                print(not (x > 0))  # Output: False"
   ]
  },
  {
   "cell_type": "markdown",
   "id": "534e0c76",
   "metadata": {},
   "source": [
    "##### Q19. What will the output of the following?\n",
    "```\n",
    "1 or 0 --> 1 (True) \n",
    "\n",
    "0 and 0 --> 0 (False)\n",
    "\n",
    "True and False and True --> False\n",
    "\n",
    "1 or 0 or 0 --> 1 (True)\n",
    "```"
   ]
  },
  {
   "cell_type": "markdown",
   "id": "601b717d",
   "metadata": {},
   "source": [
    "##### Q20. What are conditional statements in Python?\n",
    "Ans."
   ]
  },
  {
   "cell_type": "markdown",
   "id": "65cd9962",
   "metadata": {},
   "source": [
    "        In Python, conditional statements are used to control the flow of execution of a program based on certain conditions. They allow you to check if a certain condition is true or false and then execute a block of code accordingly.\n",
    "        The main types of conditional statements in Python are if statement, if-else statement, if-elif-else statement.\n",
    "        You can have any number of elif blocks in the statement and also, you can use any logical or comparison operator in the conditions. Conditional statements are very powerful tools for controlling the flow of a program, and they are often used in conjunction with loops to create more complex programs."
   ]
  },
  {
   "cell_type": "markdown",
   "id": "e3ce1558",
   "metadata": {},
   "source": [
    "##### Q21. What is use of 'if', 'elif' and 'else' keywords?\n",
    "Ans."
   ]
  },
  {
   "cell_type": "markdown",
   "id": "8ec8a057",
   "metadata": {},
   "source": [
    "        In Python, the if, elif, and else keywords are used in conditional statements to control the flow of execution of a program based on certain conditions.\n",
    "        1.The if keyword is used to check if a certain condition is true. If the condition is true, the code block following the if statement will be executed.\n",
    "        if condition:\n",
    "            # code to be executed if condition is true\n",
    "        2.The elif keyword is used as a short form for \"else if\". It is used in conjunction with the if statement to check for additional conditions if the previous conditions are false.\n",
    "\n",
    "        if condition1:\n",
    "            # code to be executed if condition1 is true\n",
    "        elif condition2:\n",
    "            # code to be executed if condition1 is false and condition2 is true\n",
    "        3.The else keyword is used to specify a block of code to be executed if all the previous conditions are false. It is optional and can be used at the end of an if-elif statement.\n",
    "        Copy code\n",
    "        if condition1:\n",
    "            # code to be executed if condition1 is true\n",
    "        else:\n",
    "            # code to be executed if condition1 is false\n",
    "        It's worth noting that you can use as many elif statements as you want in your code, also you can use any logical or comparison operator in the conditions. You can use conditional statements to check multiple conditions, and execute a different block of code for each condition.\n",
    "\n",
    "\n",
    "\n"
   ]
  },
  {
   "cell_type": "markdown",
   "id": "eedd8be3",
   "metadata": {},
   "source": [
    "##### Q22. Write a code to take the age of person as an input and if age >= 18 display \"I can vote\". If age is < 18 display \"I can't vote\".\n",
    "Ans."
   ]
  },
  {
   "cell_type": "code",
   "execution_count": 4,
   "id": "a54f6c77",
   "metadata": {},
   "outputs": [
    {
     "name": "stdout",
     "output_type": "stream",
     "text": [
      "I'Cant Vote\n"
     ]
    }
   ],
   "source": [
    "age = int(input(\"Enter the person's age: \"))\n",
    "if age >= 18:\n",
    "    print(\"I Can Vote\")\n",
    "else:\n",
    "    print(\"I'Cant Vote\")"
   ]
  },
  {
   "cell_type": "markdown",
   "id": "e063ec99",
   "metadata": {},
   "source": [
    "##### Q23. Write a code that displays the sum of all the even numbers from the given list.\n",
    "```\n",
    "numbers = [12, 75, 150, 180, 145, 525, 50]\n",
    "```\n",
    "Ans. "
   ]
  },
  {
   "cell_type": "code",
   "execution_count": 3,
   "id": "41e382e9",
   "metadata": {},
   "outputs": [
    {
     "name": "stdout",
     "output_type": "stream",
     "text": [
      "Sum of the even numbers: 392\n"
     ]
    }
   ],
   "source": [
    "numbers = [12, 75, 150, 180, 145, 525, 50]\n",
    "numbers_sum = 0\n",
    "for num in numbers:\n",
    "    if num % 2 == 0:\n",
    "        numbers_sum = numbers_sum + num\n",
    "print(\"Sum of the even numbers:\",numbers_sum)"
   ]
  },
  {
   "cell_type": "markdown",
   "id": "c44ad8ba",
   "metadata": {},
   "source": [
    "##### Q24. Write a code to take 3 numbers as an input from the user and display the greatest no as output.\n",
    "Ans."
   ]
  },
  {
   "cell_type": "code",
   "execution_count": 2,
   "id": "3e8d848b",
   "metadata": {},
   "outputs": [
    {
     "name": "stdout",
     "output_type": "stream",
     "text": [
      "The largest number is 30\n"
     ]
    }
   ],
   "source": [
    "num1=int(input(\"Enter 1st num: \"))\n",
    "num2=int(input(\"Enter 1st num: \"))\n",
    "num3=int(input(\"Enter 1st num: \"))\n",
    "if num1>=num2 and num>=num3 :\n",
    "    print(\"The largest number is\",num1)\n",
    "elif num2>=num1 and num2>=num3:\n",
    "    print(\"The largest number is\",num2)\n",
    "else:\n",
    "    print(\"The largest number is\",num3)"
   ]
  },
  {
   "cell_type": "markdown",
   "id": "b7a14260",
   "metadata": {},
   "source": [
    "##### Q25. Write a program to display only those numbers from a list that satisfy the following conditions\n",
    "\n",
    "- The number must be divisible by five\n",
    "\n",
    "- If the number is greater than 150, then skip it and move to the next number\n",
    "\n",
    "- If the number is greater than 500, then stop the loop\n",
    "```\n",
    "numbers = [12, 75, 150, 180, 145, 525, 50]\n",
    "```\n",
    "Ans."
   ]
  },
  {
   "cell_type": "code",
   "execution_count": 1,
   "id": "e57d495b",
   "metadata": {},
   "outputs": [
    {
     "name": "stdout",
     "output_type": "stream",
     "text": [
      "150\n",
      "180\n"
     ]
    }
   ],
   "source": [
    "numbers = [12, 75, 150, 180, 145, 525, 50]\n",
    "\n",
    "for num in numbers:\n",
    "    if num % 5 == 0:\n",
    "        if num >= 150 and num < 500:\n",
    "            print(num)\n",
    "        elif num > 500:\n",
    "            break\n",
    "    else:\n",
    "        continue"
   ]
  }
 ],
 "metadata": {
  "kernelspec": {
   "display_name": "base",
   "language": "python",
   "name": "python3"
  },
  "language_info": {
   "codemirror_mode": {
    "name": "ipython",
    "version": 3
   },
   "file_extension": ".py",
   "mimetype": "text/x-python",
   "name": "python",
   "nbconvert_exporter": "python",
   "pygments_lexer": "ipython3",
   "version": "3.9.12"
  },
  "vscode": {
   "interpreter": {
    "hash": "351c8c9034f868e1956a199a2c85f12c264640cedfd8a25388e36a93f17a62cf"
   }
  }
 },
 "nbformat": 4,
 "nbformat_minor": 5
}
